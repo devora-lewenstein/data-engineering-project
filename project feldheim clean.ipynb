{
 "cells": [
  {
   "cell_type": "code",
   "execution_count": 1,
   "metadata": {},
   "outputs": [],
   "source": [
    "import requests\n",
    "from bs4 import BeautifulSoup\n",
    "import pandas as pd\n",
    "import re\n",
    "import numpy as np"
   ]
  },
  {
   "cell_type": "code",
   "execution_count": 21,
   "metadata": {},
   "outputs": [],
   "source": [
    "#insert a webpage and scrap it into a df\n",
    "def webscrap_feldheim(url):\n",
    "    req = requests.get(url)\n",
    "    soup = BeautifulSoup(req.content, 'html.parser')\n",
    "    data = soup.findAll(\"div\", {\"class\": \"des product details product-item-details\"})    \n",
    "    info = [[x.text for x in y.findAll('div')] for y in data]\n",
    "    df = pd.DataFrame(info) \n",
    "    rating_df=df[df[0].str.contains('Rating')]\n",
    "    new_df=df[~df[0].str.contains('Rating')]\n",
    "    rating_df=rating_df.iloc[:, 0:8]\n",
    "    rating_df[\"reviews\"] = rating_df[3].str.split(' ').str[0]\n",
    "    rating_df[\"ratings\"]= rating_df[2]\n",
    "    rating_df = rating_df.drop([0,1,2,3], axis=1)\n",
    "    rating_df.rename(columns={4: \"title\", 5: \"price\", 6: \"delete1\", 7: \"in_stock\"}, inplace=True)    \n",
    "    new_df = new_df.iloc[:, 0:6]\n",
    "    new_df.rename(columns={0: \"title\", 1: \"price\", 2: \"delete1\", 3: \"in_stock\", 4:\"reviews\", 5:\"ratings\"}, inplace=True)\n",
    "    new_df[\"reviews\"]=None  \n",
    "    new_df[\"ratings\"]=None\n",
    "    clean_df=pd.concat([new_df, rating_df])\n",
    "    clean_df=clean_df.drop([\"delete1\"], axis=1)\n",
    "    clean_df=clean_df[~clean_df[\"title\"].str.contains('Hebrew')]\n",
    "    clean_df=clean_df[~clean_df[\"title\"].str.contains('Yiddish')]\n",
    "    clean_df=clean_df[~clean_df[\"title\"].str.contains('Spanish')]\n",
    "    clean_df=clean_df[~clean_df[\"title\"].str.contains('French')]\n",
    "    clean_df=clean_df[~clean_df[\"title\"].str.contains('Russian')]\n",
    "    clean_df=clean_df[~clean_df[\"title\"].str.contains('Portuguese')]\n",
    "    clean_df[\"in_stock\"] = clean_df[\"in_stock\"].str.strip()\n",
    "    clean_df[\"in_stock\"] = clean_df[\"in_stock\"].str.replace(\"In stock  WishList\", \"True\").str.replace(\"Add to Cart\", \"True\")\n",
    "    clean_df['in_stock'] = clean_df['in_stock'].str.replace('Out of stock  WishList', 'False').str.replace('Add to Cart', 'False').str.replace('Out of stock', 'False')\n",
    "    category = re.search(r'm/(.*).html', url)\n",
    "    category=category.group(1)\n",
    "    clean_df[\"category\"]=category\n",
    "    clean_df[\"publisher\"]=\"feldheim\"\n",
    "    return clean_df"
   ]
  },
  {
   "cell_type": "code",
   "execution_count": 22,
   "metadata": {},
   "outputs": [],
   "source": [
    "history= webscrap_feldheim('https://www.feldheim.com/history.html?product_list_limit=all')\n",
    "literature= webscrap_feldheim('https://www.feldheim.com/contemporary-literature.html?product_list_limit=all')\n",
    "jewish= webscrap_feldheim('https://www.feldheim.com/torah/jewish-thought-outlook.html?product_list_limit=all')"
   ]
  },
  {
   "cell_type": "code",
   "execution_count": 24,
   "metadata": {},
   "outputs": [],
   "source": [
    "feldheim=pd.concat([history, literature, jewish], axis=0)"
   ]
  },
  {
   "cell_type": "code",
   "execution_count": 25,
   "metadata": {},
   "outputs": [],
   "source": [
    "feldheim.drop_duplicates(subset=['title'], keep='first', inplace=True, ignore_index=True)"
   ]
  },
  {
   "cell_type": "code",
   "execution_count": 26,
   "metadata": {},
   "outputs": [],
   "source": [
    "feldheim.to_csv('feldheim.csv')"
   ]
  },
  {
   "cell_type": "code",
   "execution_count": null,
   "metadata": {},
   "outputs": [],
   "source": []
  }
 ],
 "metadata": {
  "kernelspec": {
   "display_name": "Python 3",
   "language": "python",
   "name": "python3"
  },
  "language_info": {
   "codemirror_mode": {
    "name": "ipython",
    "version": 3
   },
   "file_extension": ".py",
   "mimetype": "text/x-python",
   "name": "python",
   "nbconvert_exporter": "python",
   "pygments_lexer": "ipython3",
   "version": "3.8.3"
  }
 },
 "nbformat": 4,
 "nbformat_minor": 4
}
